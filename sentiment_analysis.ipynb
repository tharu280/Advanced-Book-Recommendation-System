{
 "cells": [
  {
   "cell_type": "code",
   "execution_count": 1,
   "metadata": {},
   "outputs": [],
   "source": [
    "import pandas as pd\n",
    "from transformers import pipeline"
   ]
  },
  {
   "cell_type": "code",
   "execution_count": 2,
   "metadata": {},
   "outputs": [],
   "source": [
    "books = pd.read_csv(\"books_with_cats.csv\")"
   ]
  },
  {
   "cell_type": "code",
   "execution_count": 3,
   "metadata": {},
   "outputs": [
    {
     "name": "stderr",
     "output_type": "stream",
     "text": [
      "Device set to use cpu\n"
     ]
    },
    {
     "data": {
      "text/plain": [
       "[[{'label': 'joy', 'score': 0.9771687984466553},\n",
       "  {'label': 'surprise', 'score': 0.008528684265911579},\n",
       "  {'label': 'neutral', 'score': 0.005764591973274946},\n",
       "  {'label': 'anger', 'score': 0.004419787786900997},\n",
       "  {'label': 'sadness', 'score': 0.0020923931151628494},\n",
       "  {'label': 'disgust', 'score': 0.001611991785466671},\n",
       "  {'label': 'fear', 'score': 0.0004138525982853025}]]"
      ]
     },
     "execution_count": 3,
     "metadata": {},
     "output_type": "execute_result"
    }
   ],
   "source": [
    "from transformers import pipeline\n",
    "classifier = pipeline(\"text-classification\",\n",
    "                      model=\"j-hartmann/emotion-english-distilroberta-base\",\n",
    "                      top_k = None,\n",
    "                      device = \"cpu\")\n",
    "classifier(\"I love this!\")"
   ]
  },
  {
   "cell_type": "code",
   "execution_count": 4,
   "metadata": {},
   "outputs": [
    {
     "data": {
      "text/plain": [
       "'A NOVEL THAT READERS and critics have been eagerly anticipating for over a decade, Gilead is an astonishingly imagined story of remarkable lives. John Ames is a preacher, the son of a preacher and the grandson (both maternal and paternal) of preachers. It’s 1956 in Gilead, Iowa, towards the end of the Reverend Ames’s life, and he is absorbed in recording his family’s story, a legacy for the young son he will never see grow up. Haunted by his grandfather’s presence, John tells of the rift between his grandfather and his father: the elder, an angry visionary who fought for the abolitionist cause, and his son, an ardent pacifist. He is troubled, too, by his prodigal namesake, Jack (John Ames) Boughton, his best friend’s lost son who returns to Gilead searching for forgiveness and redemption. Told in John Ames’s joyous, rambling voice that finds beauty, humour and truth in the smallest of life’s details, Gilead is a song of celebration and acceptance of the best and the worst the world has to offer. At its heart is a tale of the sacred bonds between fathers and sons, pitch-perfect in style and story, set to dazzle critics and readers alike.'"
      ]
     },
     "execution_count": 4,
     "metadata": {},
     "output_type": "execute_result"
    }
   ],
   "source": [
    "books['description'][0]"
   ]
  },
  {
   "cell_type": "code",
   "execution_count": 5,
   "metadata": {},
   "outputs": [
    {
     "data": {
      "text/plain": [
       "[[{'label': 'fear', 'score': 0.6548417210578918},\n",
       "  {'label': 'neutral', 'score': 0.16985169053077698},\n",
       "  {'label': 'sadness', 'score': 0.11640870571136475},\n",
       "  {'label': 'surprise', 'score': 0.020700670778751373},\n",
       "  {'label': 'disgust', 'score': 0.019100656732916832},\n",
       "  {'label': 'joy', 'score': 0.015161336399614811},\n",
       "  {'label': 'anger', 'score': 0.003935145679861307}]]"
      ]
     },
     "execution_count": 5,
     "metadata": {},
     "output_type": "execute_result"
    }
   ],
   "source": [
    "classifier(books['description'][0])"
   ]
  },
  {
   "cell_type": "code",
   "execution_count": 6,
   "metadata": {},
   "outputs": [
    {
     "data": {
      "text/plain": [
       "[[{'label': 'surprise', 'score': 0.7296023964881897},\n",
       "  {'label': 'neutral', 'score': 0.14038558304309845},\n",
       "  {'label': 'fear', 'score': 0.06816234439611435},\n",
       "  {'label': 'joy', 'score': 0.04794265329837799},\n",
       "  {'label': 'anger', 'score': 0.009156362153589725},\n",
       "  {'label': 'disgust', 'score': 0.00262847519479692},\n",
       "  {'label': 'sadness', 'score': 0.0021221647039055824}],\n",
       " [{'label': 'neutral', 'score': 0.44937118887901306},\n",
       "  {'label': 'disgust', 'score': 0.2735905945301056},\n",
       "  {'label': 'joy', 'score': 0.10908325016498566},\n",
       "  {'label': 'sadness', 'score': 0.09362746775150299},\n",
       "  {'label': 'anger', 'score': 0.040478307753801346},\n",
       "  {'label': 'surprise', 'score': 0.02697017230093479},\n",
       "  {'label': 'fear', 'score': 0.006879061460494995}],\n",
       " [{'label': 'neutral', 'score': 0.6462148427963257},\n",
       "  {'label': 'sadness', 'score': 0.24273426830768585},\n",
       "  {'label': 'disgust', 'score': 0.04342272877693176},\n",
       "  {'label': 'surprise', 'score': 0.02830054797232151},\n",
       "  {'label': 'joy', 'score': 0.014211487025022507},\n",
       "  {'label': 'fear', 'score': 0.014084129594266415},\n",
       "  {'label': 'anger', 'score': 0.01103190891444683}],\n",
       " [{'label': 'fear', 'score': 0.928168535232544},\n",
       "  {'label': 'anger', 'score': 0.03219066560268402},\n",
       "  {'label': 'neutral', 'score': 0.012808626517653465},\n",
       "  {'label': 'sadness', 'score': 0.008756839670240879},\n",
       "  {'label': 'surprise', 'score': 0.008597861975431442},\n",
       "  {'label': 'disgust', 'score': 0.008431756868958473},\n",
       "  {'label': 'joy', 'score': 0.0010455811861902475}],\n",
       " [{'label': 'sadness', 'score': 0.9671575427055359},\n",
       "  {'label': 'neutral', 'score': 0.015104149468243122},\n",
       "  {'label': 'disgust', 'score': 0.006480592768639326},\n",
       "  {'label': 'fear', 'score': 0.005393987987190485},\n",
       "  {'label': 'surprise', 'score': 0.0022869387175887823},\n",
       "  {'label': 'anger', 'score': 0.0018428885377943516},\n",
       "  {'label': 'joy', 'score': 0.0017338772304356098}],\n",
       " [{'label': 'joy', 'score': 0.9327976107597351},\n",
       "  {'label': 'disgust', 'score': 0.03771742805838585},\n",
       "  {'label': 'neutral', 'score': 0.01589188538491726},\n",
       "  {'label': 'sadness', 'score': 0.006444536615163088},\n",
       "  {'label': 'anger', 'score': 0.005025001708418131},\n",
       "  {'label': 'surprise', 'score': 0.0015812094788998365},\n",
       "  {'label': 'fear', 'score': 0.0005423079710453749}],\n",
       " [{'label': 'joy', 'score': 0.6528706550598145},\n",
       "  {'label': 'neutral', 'score': 0.2542746663093567},\n",
       "  {'label': 'surprise', 'score': 0.06808305531740189},\n",
       "  {'label': 'sadness', 'score': 0.009908989071846008},\n",
       "  {'label': 'disgust', 'score': 0.006512205582112074},\n",
       "  {'label': 'anger', 'score': 0.004821303300559521},\n",
       "  {'label': 'fear', 'score': 0.003529009874910116}],\n",
       " [{'label': 'neutral', 'score': 0.5494758486747742},\n",
       "  {'label': 'sadness', 'score': 0.11169034242630005},\n",
       "  {'label': 'disgust', 'score': 0.10400685667991638},\n",
       "  {'label': 'surprise', 'score': 0.0787656381726265},\n",
       "  {'label': 'anger', 'score': 0.06413380056619644},\n",
       "  {'label': 'fear', 'score': 0.051362935453653336},\n",
       "  {'label': 'joy', 'score': 0.040564533323049545}]]"
      ]
     },
     "execution_count": 6,
     "metadata": {},
     "output_type": "execute_result"
    }
   ],
   "source": [
    "classifier(books['description'][0].split('.'))"
   ]
  },
  {
   "cell_type": "code",
   "execution_count": 7,
   "metadata": {},
   "outputs": [],
   "source": [
    "sentences = books['description'][0].split('.')\n",
    "predictions = classifier(sentences)"
   ]
  },
  {
   "cell_type": "code",
   "execution_count": 8,
   "metadata": {},
   "outputs": [
    {
     "data": {
      "text/plain": [
       "('A NOVEL THAT READERS and critics have been eagerly anticipating for over a decade, Gilead is an astonishingly imagined story of remarkable lives',\n",
       " [{'label': 'surprise', 'score': 0.7296023964881897},\n",
       "  {'label': 'neutral', 'score': 0.14038558304309845},\n",
       "  {'label': 'fear', 'score': 0.06816234439611435},\n",
       "  {'label': 'joy', 'score': 0.04794265329837799},\n",
       "  {'label': 'anger', 'score': 0.009156362153589725},\n",
       "  {'label': 'disgust', 'score': 0.00262847519479692},\n",
       "  {'label': 'sadness', 'score': 0.0021221647039055824}])"
      ]
     },
     "execution_count": 8,
     "metadata": {},
     "output_type": "execute_result"
    }
   ],
   "source": [
    "sentences[0], predictions[0]"
   ]
  },
  {
   "cell_type": "code",
   "execution_count": 9,
   "metadata": {},
   "outputs": [],
   "source": [
    "import numpy as np"
   ]
  },
  {
   "cell_type": "code",
   "execution_count": 10,
   "metadata": {},
   "outputs": [],
   "source": [
    "emotion_labels = [\"anger\", \"disgust\", \"fear\", \"joy\", \"sadness\", \"surprise\", \"neutral\"]\n",
    "isbn = []\n",
    "emotion_scores = {label: [] for label in emotion_labels}\n",
    "\n",
    "def calculate_max_emotion_scores(predictions):\n",
    "    per_emotion_scores = {label: [] for label in emotion_labels}\n",
    "    for prediction in predictions:\n",
    "        sorted_predictions = sorted(prediction, key=lambda x: x[\"label\"])\n",
    "        for index, label in enumerate(emotion_labels):\n",
    "            per_emotion_scores[label].append(sorted_predictions[index][\"score\"])\n",
    "    return {label: np.max(scores) for label, scores in per_emotion_scores.items()}"
   ]
  },
  {
   "cell_type": "code",
   "execution_count": 11,
   "metadata": {},
   "outputs": [],
   "source": [
    "for i in range(10):\n",
    "    isbn.append(books[\"isbn13\"][i])\n",
    "    sentences = books[\"description\"][i].split(\".\")\n",
    "    predictions = classifier(sentences)\n",
    "    max_scores = calculate_max_emotion_scores(predictions)\n",
    "    for label in emotion_labels:\n",
    "        emotion_scores[label].append(max_scores[label])"
   ]
  },
  {
   "cell_type": "code",
   "execution_count": 12,
   "metadata": {},
   "outputs": [
    {
     "data": {
      "text/plain": [
       "{'anger': [np.float64(0.06413380056619644),\n",
       "  np.float64(0.612618625164032),\n",
       "  np.float64(0.06413380056619644),\n",
       "  np.float64(0.35148388147354126),\n",
       "  np.float64(0.0814124345779419),\n",
       "  np.float64(0.23222501575946808),\n",
       "  np.float64(0.5381845235824585),\n",
       "  np.float64(0.06413380056619644),\n",
       "  np.float64(0.3006698787212372),\n",
       "  np.float64(0.06413380056619644)],\n",
       " 'disgust': [np.float64(0.2735905945301056),\n",
       "  np.float64(0.34828659892082214),\n",
       "  np.float64(0.10400685667991638),\n",
       "  np.float64(0.15072257816791534),\n",
       "  np.float64(0.18449579179286957),\n",
       "  np.float64(0.727174699306488),\n",
       "  np.float64(0.15585486590862274),\n",
       "  np.float64(0.10400685667991638),\n",
       "  np.float64(0.2794814705848694),\n",
       "  np.float64(0.1779264211654663)],\n",
       " 'fear': [np.float64(0.928168535232544),\n",
       "  np.float64(0.9425276517868042),\n",
       "  np.float64(0.9723207950592041),\n",
       "  np.float64(0.3607061505317688),\n",
       "  np.float64(0.09504344314336777),\n",
       "  np.float64(0.051362935453653336),\n",
       "  np.float64(0.747427225112915),\n",
       "  np.float64(0.4044969379901886),\n",
       "  np.float64(0.9155240654945374),\n",
       "  np.float64(0.051362935453653336)],\n",
       " 'joy': [np.float64(0.9327976107597351),\n",
       "  np.float64(0.7044219374656677),\n",
       "  np.float64(0.7672374844551086),\n",
       "  np.float64(0.2518826425075531),\n",
       "  np.float64(0.040564533323049545),\n",
       "  np.float64(0.04337579011917114),\n",
       "  np.float64(0.8725650310516357),\n",
       "  np.float64(0.040564533323049545),\n",
       "  np.float64(0.040564533323049545),\n",
       "  np.float64(0.040564533323049545)],\n",
       " 'sadness': [np.float64(0.6462148427963257),\n",
       "  np.float64(0.8879395127296448),\n",
       "  np.float64(0.5494758486747742),\n",
       "  np.float64(0.732685387134552),\n",
       "  np.float64(0.884389340877533),\n",
       "  np.float64(0.6213923692703247),\n",
       "  np.float64(0.7121939063072205),\n",
       "  np.float64(0.5494758486747742),\n",
       "  np.float64(0.8402893543243408),\n",
       "  np.float64(0.8603723645210266)],\n",
       " 'surprise': [np.float64(0.9671575427055359),\n",
       "  np.float64(0.11169034242630005),\n",
       "  np.float64(0.11169034242630005),\n",
       "  np.float64(0.11169034242630005),\n",
       "  np.float64(0.47588130831718445),\n",
       "  np.float64(0.11169034242630005),\n",
       "  np.float64(0.40799951553344727),\n",
       "  np.float64(0.820284366607666),\n",
       "  np.float64(0.35446110367774963),\n",
       "  np.float64(0.11169034242630005)],\n",
       " 'neutral': [np.float64(0.7296023964881897),\n",
       "  np.float64(0.25254642963409424),\n",
       "  np.float64(0.0787656381726265),\n",
       "  np.float64(0.0787656381726265),\n",
       "  np.float64(0.0787656381726265),\n",
       "  np.float64(0.27190306782722473),\n",
       "  np.float64(0.0787656381726265),\n",
       "  np.float64(0.23448707163333893),\n",
       "  np.float64(0.13561394810676575),\n",
       "  np.float64(0.0787656381726265)]}"
      ]
     },
     "execution_count": 12,
     "metadata": {},
     "output_type": "execute_result"
    }
   ],
   "source": [
    "emotion_scores"
   ]
  },
  {
   "cell_type": "code",
   "execution_count": 13,
   "metadata": {},
   "outputs": [
    {
     "name": "stderr",
     "output_type": "stream",
     "text": [
      "100%|██████████| 5197/5197 [09:23<00:00,  9.23it/s]\n"
     ]
    }
   ],
   "source": [
    "from tqdm import tqdm\n",
    "\n",
    "emotion_labels = [\"anger\", \"disgust\", \"fear\", \"joy\", \"sadness\", \"surprise\", \"neutral\"]\n",
    "isbn = []\n",
    "emotion_scores = {label: [] for label in emotion_labels}\n",
    "\n",
    "for i in tqdm(range(len(books))):\n",
    "    isbn.append(books[\"isbn13\"][i])\n",
    "    sentences = books[\"description\"][i].split(\".\")\n",
    "    predictions = classifier(sentences)\n",
    "    max_scores = calculate_max_emotion_scores(predictions)\n",
    "    for label in emotion_labels:\n",
    "        emotion_scores[label].append(max_scores[label])"
   ]
  },
  {
   "cell_type": "code",
   "execution_count": 14,
   "metadata": {},
   "outputs": [
    {
     "data": {
      "text/html": [
       "<div>\n",
       "<style scoped>\n",
       "    .dataframe tbody tr th:only-of-type {\n",
       "        vertical-align: middle;\n",
       "    }\n",
       "\n",
       "    .dataframe tbody tr th {\n",
       "        vertical-align: top;\n",
       "    }\n",
       "\n",
       "    .dataframe thead th {\n",
       "        text-align: right;\n",
       "    }\n",
       "</style>\n",
       "<table border=\"1\" class=\"dataframe\">\n",
       "  <thead>\n",
       "    <tr style=\"text-align: right;\">\n",
       "      <th></th>\n",
       "      <th>anger</th>\n",
       "      <th>disgust</th>\n",
       "      <th>fear</th>\n",
       "      <th>joy</th>\n",
       "      <th>sadness</th>\n",
       "      <th>surprise</th>\n",
       "      <th>neutral</th>\n",
       "      <th>isbn13</th>\n",
       "    </tr>\n",
       "  </thead>\n",
       "  <tbody>\n",
       "    <tr>\n",
       "      <th>0</th>\n",
       "      <td>0.064134</td>\n",
       "      <td>0.273591</td>\n",
       "      <td>0.928169</td>\n",
       "      <td>0.932798</td>\n",
       "      <td>0.646215</td>\n",
       "      <td>0.967158</td>\n",
       "      <td>0.729602</td>\n",
       "      <td>9.780002e+12</td>\n",
       "    </tr>\n",
       "    <tr>\n",
       "      <th>1</th>\n",
       "      <td>0.612619</td>\n",
       "      <td>0.348287</td>\n",
       "      <td>0.942528</td>\n",
       "      <td>0.704422</td>\n",
       "      <td>0.887940</td>\n",
       "      <td>0.111690</td>\n",
       "      <td>0.252546</td>\n",
       "      <td>9.780002e+12</td>\n",
       "    </tr>\n",
       "    <tr>\n",
       "      <th>2</th>\n",
       "      <td>0.064134</td>\n",
       "      <td>0.104007</td>\n",
       "      <td>0.972321</td>\n",
       "      <td>0.767237</td>\n",
       "      <td>0.549476</td>\n",
       "      <td>0.111690</td>\n",
       "      <td>0.078766</td>\n",
       "      <td>9.780006e+12</td>\n",
       "    </tr>\n",
       "    <tr>\n",
       "      <th>3</th>\n",
       "      <td>0.351484</td>\n",
       "      <td>0.150723</td>\n",
       "      <td>0.360706</td>\n",
       "      <td>0.251883</td>\n",
       "      <td>0.732685</td>\n",
       "      <td>0.111690</td>\n",
       "      <td>0.078766</td>\n",
       "      <td>9.780006e+12</td>\n",
       "    </tr>\n",
       "    <tr>\n",
       "      <th>4</th>\n",
       "      <td>0.081412</td>\n",
       "      <td>0.184496</td>\n",
       "      <td>0.095043</td>\n",
       "      <td>0.040565</td>\n",
       "      <td>0.884389</td>\n",
       "      <td>0.475881</td>\n",
       "      <td>0.078766</td>\n",
       "      <td>9.780006e+12</td>\n",
       "    </tr>\n",
       "  </tbody>\n",
       "</table>\n",
       "</div>"
      ],
      "text/plain": [
       "      anger   disgust      fear       joy   sadness  surprise   neutral  \\\n",
       "0  0.064134  0.273591  0.928169  0.932798  0.646215  0.967158  0.729602   \n",
       "1  0.612619  0.348287  0.942528  0.704422  0.887940  0.111690  0.252546   \n",
       "2  0.064134  0.104007  0.972321  0.767237  0.549476  0.111690  0.078766   \n",
       "3  0.351484  0.150723  0.360706  0.251883  0.732685  0.111690  0.078766   \n",
       "4  0.081412  0.184496  0.095043  0.040565  0.884389  0.475881  0.078766   \n",
       "\n",
       "         isbn13  \n",
       "0  9.780002e+12  \n",
       "1  9.780002e+12  \n",
       "2  9.780006e+12  \n",
       "3  9.780006e+12  \n",
       "4  9.780006e+12  "
      ]
     },
     "execution_count": 14,
     "metadata": {},
     "output_type": "execute_result"
    }
   ],
   "source": [
    "emotions_df = pd.DataFrame(emotion_scores)\n",
    "emotions_df[\"isbn13\"] = isbn\n",
    "emotions_df.head()"
   ]
  },
  {
   "cell_type": "code",
   "execution_count": 15,
   "metadata": {},
   "outputs": [],
   "source": [
    "books = pd.merge(books, emotions_df, on = \"isbn13\")"
   ]
  },
  {
   "cell_type": "code",
   "execution_count": 16,
   "metadata": {},
   "outputs": [
    {
     "data": {
      "text/html": [
       "<div>\n",
       "<style scoped>\n",
       "    .dataframe tbody tr th:only-of-type {\n",
       "        vertical-align: middle;\n",
       "    }\n",
       "\n",
       "    .dataframe tbody tr th {\n",
       "        vertical-align: top;\n",
       "    }\n",
       "\n",
       "    .dataframe thead th {\n",
       "        text-align: right;\n",
       "    }\n",
       "</style>\n",
       "<table border=\"1\" class=\"dataframe\">\n",
       "  <thead>\n",
       "    <tr style=\"text-align: right;\">\n",
       "      <th></th>\n",
       "      <th>isbn13</th>\n",
       "      <th>isbn10</th>\n",
       "      <th>title</th>\n",
       "      <th>authors</th>\n",
       "      <th>categories</th>\n",
       "      <th>thumbnail</th>\n",
       "      <th>description</th>\n",
       "      <th>published_year</th>\n",
       "      <th>average_rating</th>\n",
       "      <th>num_pages</th>\n",
       "      <th>...</th>\n",
       "      <th>title_&amp;_subtitle</th>\n",
       "      <th>tagged_description</th>\n",
       "      <th>simple_categories</th>\n",
       "      <th>anger</th>\n",
       "      <th>disgust</th>\n",
       "      <th>fear</th>\n",
       "      <th>joy</th>\n",
       "      <th>sadness</th>\n",
       "      <th>surprise</th>\n",
       "      <th>neutral</th>\n",
       "    </tr>\n",
       "  </thead>\n",
       "  <tbody>\n",
       "    <tr>\n",
       "      <th>0</th>\n",
       "      <td>9.780002e+12</td>\n",
       "      <td>0002005883</td>\n",
       "      <td>Gilead</td>\n",
       "      <td>Marilynne Robinson</td>\n",
       "      <td>Fiction</td>\n",
       "      <td>http://books.google.com/books/content?id=KQZCP...</td>\n",
       "      <td>A NOVEL THAT READERS and critics have been eag...</td>\n",
       "      <td>2004.0</td>\n",
       "      <td>3.85</td>\n",
       "      <td>247.0</td>\n",
       "      <td>...</td>\n",
       "      <td>Gilead</td>\n",
       "      <td>9780002005883.0 A NOVEL THAT READERS and criti...</td>\n",
       "      <td>Fiction</td>\n",
       "      <td>0.064134</td>\n",
       "      <td>0.273591</td>\n",
       "      <td>0.928169</td>\n",
       "      <td>0.932798</td>\n",
       "      <td>0.646215</td>\n",
       "      <td>0.967158</td>\n",
       "      <td>0.729602</td>\n",
       "    </tr>\n",
       "    <tr>\n",
       "      <th>1</th>\n",
       "      <td>9.780002e+12</td>\n",
       "      <td>0002261987</td>\n",
       "      <td>Spider's Web</td>\n",
       "      <td>Charles Osborne;Agatha Christie</td>\n",
       "      <td>Detective and mystery stories</td>\n",
       "      <td>http://books.google.com/books/content?id=gA5GP...</td>\n",
       "      <td>A new 'Christie for Christmas' -- a full-lengt...</td>\n",
       "      <td>2000.0</td>\n",
       "      <td>3.83</td>\n",
       "      <td>241.0</td>\n",
       "      <td>...</td>\n",
       "      <td>Spider's Web:A Novel</td>\n",
       "      <td>9780002261982.0 A new 'Christie for Christmas'...</td>\n",
       "      <td>Fiction</td>\n",
       "      <td>0.612619</td>\n",
       "      <td>0.348287</td>\n",
       "      <td>0.942528</td>\n",
       "      <td>0.704422</td>\n",
       "      <td>0.887940</td>\n",
       "      <td>0.111690</td>\n",
       "      <td>0.252546</td>\n",
       "    </tr>\n",
       "    <tr>\n",
       "      <th>2</th>\n",
       "      <td>9.780006e+12</td>\n",
       "      <td>0006178731</td>\n",
       "      <td>Rage of angels</td>\n",
       "      <td>Sidney Sheldon</td>\n",
       "      <td>Fiction</td>\n",
       "      <td>http://books.google.com/books/content?id=FKo2T...</td>\n",
       "      <td>A memorable, mesmerizing heroine Jennifer -- b...</td>\n",
       "      <td>1993.0</td>\n",
       "      <td>3.93</td>\n",
       "      <td>512.0</td>\n",
       "      <td>...</td>\n",
       "      <td>Rage of angels</td>\n",
       "      <td>9780006178736.0 A memorable, mesmerizing heroi...</td>\n",
       "      <td>Fiction</td>\n",
       "      <td>0.064134</td>\n",
       "      <td>0.104007</td>\n",
       "      <td>0.972321</td>\n",
       "      <td>0.767237</td>\n",
       "      <td>0.549476</td>\n",
       "      <td>0.111690</td>\n",
       "      <td>0.078766</td>\n",
       "    </tr>\n",
       "    <tr>\n",
       "      <th>3</th>\n",
       "      <td>9.780006e+12</td>\n",
       "      <td>0006280897</td>\n",
       "      <td>The Four Loves</td>\n",
       "      <td>Clive Staples Lewis</td>\n",
       "      <td>Christian life</td>\n",
       "      <td>http://books.google.com/books/content?id=XhQ5X...</td>\n",
       "      <td>Lewis' work on the nature of love divides love...</td>\n",
       "      <td>2002.0</td>\n",
       "      <td>4.15</td>\n",
       "      <td>170.0</td>\n",
       "      <td>...</td>\n",
       "      <td>The Four Loves</td>\n",
       "      <td>9780006280897.0 Lewis' work on the nature of l...</td>\n",
       "      <td>Fiction</td>\n",
       "      <td>0.351484</td>\n",
       "      <td>0.150723</td>\n",
       "      <td>0.360706</td>\n",
       "      <td>0.251883</td>\n",
       "      <td>0.732685</td>\n",
       "      <td>0.111690</td>\n",
       "      <td>0.078766</td>\n",
       "    </tr>\n",
       "    <tr>\n",
       "      <th>4</th>\n",
       "      <td>9.780006e+12</td>\n",
       "      <td>0006280935</td>\n",
       "      <td>The Problem of Pain</td>\n",
       "      <td>Clive Staples Lewis</td>\n",
       "      <td>Christian life</td>\n",
       "      <td>http://books.google.com/books/content?id=Kk-uV...</td>\n",
       "      <td>\"In The Problem of Pain, C.S. Lewis, one of th...</td>\n",
       "      <td>2002.0</td>\n",
       "      <td>4.09</td>\n",
       "      <td>176.0</td>\n",
       "      <td>...</td>\n",
       "      <td>The Problem of Pain</td>\n",
       "      <td>9780006280934.0 \"In The Problem of Pain, C.S. ...</td>\n",
       "      <td>Fiction</td>\n",
       "      <td>0.081412</td>\n",
       "      <td>0.184496</td>\n",
       "      <td>0.095043</td>\n",
       "      <td>0.040565</td>\n",
       "      <td>0.884389</td>\n",
       "      <td>0.475881</td>\n",
       "      <td>0.078766</td>\n",
       "    </tr>\n",
       "  </tbody>\n",
       "</table>\n",
       "<p>5 rows × 21 columns</p>\n",
       "</div>"
      ],
      "text/plain": [
       "         isbn13      isbn10                title  \\\n",
       "0  9.780002e+12  0002005883               Gilead   \n",
       "1  9.780002e+12  0002261987         Spider's Web   \n",
       "2  9.780006e+12  0006178731       Rage of angels   \n",
       "3  9.780006e+12  0006280897       The Four Loves   \n",
       "4  9.780006e+12  0006280935  The Problem of Pain   \n",
       "\n",
       "                           authors                     categories  \\\n",
       "0               Marilynne Robinson                        Fiction   \n",
       "1  Charles Osborne;Agatha Christie  Detective and mystery stories   \n",
       "2                   Sidney Sheldon                        Fiction   \n",
       "3              Clive Staples Lewis                 Christian life   \n",
       "4              Clive Staples Lewis                 Christian life   \n",
       "\n",
       "                                           thumbnail  \\\n",
       "0  http://books.google.com/books/content?id=KQZCP...   \n",
       "1  http://books.google.com/books/content?id=gA5GP...   \n",
       "2  http://books.google.com/books/content?id=FKo2T...   \n",
       "3  http://books.google.com/books/content?id=XhQ5X...   \n",
       "4  http://books.google.com/books/content?id=Kk-uV...   \n",
       "\n",
       "                                         description  published_year  \\\n",
       "0  A NOVEL THAT READERS and critics have been eag...          2004.0   \n",
       "1  A new 'Christie for Christmas' -- a full-lengt...          2000.0   \n",
       "2  A memorable, mesmerizing heroine Jennifer -- b...          1993.0   \n",
       "3  Lewis' work on the nature of love divides love...          2002.0   \n",
       "4  \"In The Problem of Pain, C.S. Lewis, one of th...          2002.0   \n",
       "\n",
       "   average_rating  num_pages  ...      title_&_subtitle  \\\n",
       "0            3.85      247.0  ...                Gilead   \n",
       "1            3.83      241.0  ...  Spider's Web:A Novel   \n",
       "2            3.93      512.0  ...        Rage of angels   \n",
       "3            4.15      170.0  ...        The Four Loves   \n",
       "4            4.09      176.0  ...   The Problem of Pain   \n",
       "\n",
       "                                  tagged_description simple_categories  \\\n",
       "0  9780002005883.0 A NOVEL THAT READERS and criti...           Fiction   \n",
       "1  9780002261982.0 A new 'Christie for Christmas'...           Fiction   \n",
       "2  9780006178736.0 A memorable, mesmerizing heroi...           Fiction   \n",
       "3  9780006280897.0 Lewis' work on the nature of l...           Fiction   \n",
       "4  9780006280934.0 \"In The Problem of Pain, C.S. ...           Fiction   \n",
       "\n",
       "      anger   disgust      fear       joy   sadness  surprise   neutral  \n",
       "0  0.064134  0.273591  0.928169  0.932798  0.646215  0.967158  0.729602  \n",
       "1  0.612619  0.348287  0.942528  0.704422  0.887940  0.111690  0.252546  \n",
       "2  0.064134  0.104007  0.972321  0.767237  0.549476  0.111690  0.078766  \n",
       "3  0.351484  0.150723  0.360706  0.251883  0.732685  0.111690  0.078766  \n",
       "4  0.081412  0.184496  0.095043  0.040565  0.884389  0.475881  0.078766  \n",
       "\n",
       "[5 rows x 21 columns]"
      ]
     },
     "execution_count": 16,
     "metadata": {},
     "output_type": "execute_result"
    }
   ],
   "source": [
    "books.head()"
   ]
  },
  {
   "cell_type": "code",
   "execution_count": 17,
   "metadata": {},
   "outputs": [],
   "source": [
    "books.to_csv(\"books_&_emotions.csv\", index = False)"
   ]
  },
  {
   "cell_type": "code",
   "execution_count": null,
   "metadata": {},
   "outputs": [],
   "source": []
  }
 ],
 "metadata": {
  "kernelspec": {
   "display_name": "user_agreement",
   "language": "python",
   "name": "python3"
  },
  "language_info": {
   "codemirror_mode": {
    "name": "ipython",
    "version": 3
   },
   "file_extension": ".py",
   "mimetype": "text/x-python",
   "name": "python",
   "nbconvert_exporter": "python",
   "pygments_lexer": "ipython3",
   "version": "3.12.5"
  }
 },
 "nbformat": 4,
 "nbformat_minor": 2
}
